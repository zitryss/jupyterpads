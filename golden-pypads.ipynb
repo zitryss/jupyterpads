{
 "cells": [
  {
   "cell_type": "code",
   "execution_count": 3,
   "metadata": {},
   "outputs": [
    {
     "name": "stdout",
     "output_type": "stream",
     "text": [
      "\u001b[32m2021-04-11 22:22:01.522\u001b[0m | \u001b[33m\u001b[1mWARNING \u001b[0m | \u001b[36mpypads.injections.loggers.metric\u001b[0m:\u001b[36m__post__\u001b[0m:\u001b[36m99\u001b[0m - \u001b[33m\u001b[1mMlflow metrics have to be doubles. Could log the return value of type '<class 'numpy.ndarray'>' of 'Metric Injection Logger' as artifact instead. Activate with _pypads_artifact_fallback=True\u001b[0m\n",
      "\u001b[32m2021-04-11 22:22:01.645\u001b[0m | \u001b[33m\u001b[1mWARNING \u001b[0m | \u001b[36mpypads.injections.loggers.metric\u001b[0m:\u001b[36m__post__\u001b[0m:\u001b[36m99\u001b[0m - \u001b[33m\u001b[1mMlflow metrics have to be doubles. Could log the return value of type '<class 'tuple'>' of 'Metric Injection Logger' as artifact instead. Activate with _pypads_artifact_fallback=True\u001b[0m\n",
      "Score: 1.0\n"
     ]
    }
   ],
   "source": [
    "from sklearn import datasets\n",
    "from sklearn.metrics.classification import f1_score\n",
    "from sklearn.tree import DecisionTreeClassifier\n",
    "\n",
    "dataset = datasets.load_iris()\n",
    "model = DecisionTreeClassifier()\n",
    "model.fit(dataset.data, dataset.target)\n",
    "expected = dataset.target\n",
    "predicted = model.predict(dataset.data)\n",
    "print(\"Score: \" + str(f1_score(expected, predicted, average=\"macro\")))"
   ]
  },
  {
   "cell_type": "code",
   "execution_count": 1,
   "metadata": {},
   "outputs": [
    {
     "name": "stdout",
     "output_type": "stream",
     "text": [
      "\u001b[32m2021-05-04 13:56:05.729\u001b[0m | \u001b[33m\u001b[1mWARNING \u001b[0m | \u001b[36mpypads.app.api\u001b[0m:\u001b[36mtrack\u001b[0m:\u001b[36m131\u001b[0m - \u001b[33m\u001b[1mTracking a function without a mapping definition. A default mapping will be generated.\u001b[0m\n",
      "\u001b[32m2021-05-04 13:56:23.233\u001b[0m | \u001b[33m\u001b[1mWARNING \u001b[0m | \u001b[36mpypads.injections.loggers.metric\u001b[0m:\u001b[36m__post__\u001b[0m:\u001b[36m99\u001b[0m - \u001b[33m\u001b[1mMlflow metrics have to be doubles. Could log the return value of type '<class 'tuple'>' of 'Metric Injection Logger' as artifact instead. Activate with _pypads_artifact_fallback=True\u001b[0m\n",
      "\u001b[32m2021-05-04 13:56:23.341\u001b[0m | \u001b[33m\u001b[1mWARNING \u001b[0m | \u001b[36mpypads.injections.loggers.metric\u001b[0m:\u001b[36m__post__\u001b[0m:\u001b[36m99\u001b[0m - \u001b[33m\u001b[1mMlflow metrics have to be doubles. Could log the return value of type '<class 'tuple'>' of 'Metric Injection Logger' as artifact instead. Activate with _pypads_artifact_fallback=True\u001b[0m\n",
      "\u001b[32m2021-05-04 13:56:23.439\u001b[0m | \u001b[33m\u001b[1mWARNING \u001b[0m | \u001b[36mpypads.injections.loggers.metric\u001b[0m:\u001b[36m__post__\u001b[0m:\u001b[36m99\u001b[0m - \u001b[33m\u001b[1mMlflow metrics have to be doubles. Could log the return value of type '<class 'tuple'>' of 'Metric Injection Logger' as artifact instead. Activate with _pypads_artifact_fallback=True\u001b[0m\n",
      "\u001b[32m2021-05-04 13:56:26.098\u001b[0m | \u001b[33m\u001b[1mWARNING \u001b[0m | \u001b[36mpypads.injections.loggers.metric\u001b[0m:\u001b[36m__post__\u001b[0m:\u001b[36m99\u001b[0m - \u001b[33m\u001b[1mMlflow metrics have to be doubles. Could log the return value of type '<class 'tuple'>' of 'Metric Injection Logger' as artifact instead. Activate with _pypads_artifact_fallback=True\u001b[0m\n",
      "\u001b[32m2021-05-04 13:56:26.185\u001b[0m | \u001b[33m\u001b[1mWARNING \u001b[0m | \u001b[36mpypads.injections.loggers.metric\u001b[0m:\u001b[36m__post__\u001b[0m:\u001b[36m99\u001b[0m - \u001b[33m\u001b[1mMlflow metrics have to be doubles. Could log the return value of type '<class 'tuple'>' of 'Metric Injection Logger' as artifact instead. Activate with _pypads_artifact_fallback=True\u001b[0m\n",
      "\u001b[32m2021-05-04 13:56:26.285\u001b[0m | \u001b[33m\u001b[1mWARNING \u001b[0m | \u001b[36mpypads.injections.loggers.metric\u001b[0m:\u001b[36m__post__\u001b[0m:\u001b[36m99\u001b[0m - \u001b[33m\u001b[1mMlflow metrics have to be doubles. Could log the return value of type '<class 'tuple'>' of 'Metric Injection Logger' as artifact instead. Activate with _pypads_artifact_fallback=True\u001b[0m\n",
      "\u001b[32m2021-05-04 13:56:26.449\u001b[0m | \u001b[33m\u001b[1mWARNING \u001b[0m | \u001b[36mpypads.injections.loggers.metric\u001b[0m:\u001b[36m__post__\u001b[0m:\u001b[36m99\u001b[0m - \u001b[33m\u001b[1mMlflow metrics have to be doubles. Could log the return value of type '<class 'tuple'>' of 'Metric Injection Logger' as artifact instead. Activate with _pypads_artifact_fallback=True\u001b[0m\n",
      "\u001b[32m2021-05-04 13:56:26.542\u001b[0m | \u001b[33m\u001b[1mWARNING \u001b[0m | \u001b[36mpypads.injections.loggers.metric\u001b[0m:\u001b[36m__post__\u001b[0m:\u001b[36m99\u001b[0m - \u001b[33m\u001b[1mMlflow metrics have to be doubles. Could log the return value of type '<class 'tuple'>' of 'Metric Injection Logger' as artifact instead. Activate with _pypads_artifact_fallback=True\u001b[0m\n",
      "\u001b[32m2021-05-04 13:56:26.629\u001b[0m | \u001b[33m\u001b[1mWARNING \u001b[0m | \u001b[36mpypads.injections.loggers.metric\u001b[0m:\u001b[36m__post__\u001b[0m:\u001b[36m99\u001b[0m - \u001b[33m\u001b[1mMlflow metrics have to be doubles. Could log the return value of type '<class 'tuple'>' of 'Metric Injection Logger' as artifact instead. Activate with _pypads_artifact_fallback=True\u001b[0m\n",
      "\u001b[32m2021-05-04 13:56:29.119\u001b[0m | \u001b[33m\u001b[1mWARNING \u001b[0m | \u001b[36mpypads.injections.loggers.metric\u001b[0m:\u001b[36m__post__\u001b[0m:\u001b[36m99\u001b[0m - \u001b[33m\u001b[1mMlflow metrics have to be doubles. Could log the return value of type '<class 'tuple'>' of 'Metric Injection Logger' as artifact instead. Activate with _pypads_artifact_fallback=True\u001b[0m\n",
      "\u001b[32m2021-05-04 13:56:29.205\u001b[0m | \u001b[33m\u001b[1mWARNING \u001b[0m | \u001b[36mpypads.injections.loggers.metric\u001b[0m:\u001b[36m__post__\u001b[0m:\u001b[36m99\u001b[0m - \u001b[33m\u001b[1mMlflow metrics have to be doubles. Could log the return value of type '<class 'tuple'>' of 'Metric Injection Logger' as artifact instead. Activate with _pypads_artifact_fallback=True\u001b[0m\n",
      "\u001b[32m2021-05-04 13:56:29.289\u001b[0m | \u001b[33m\u001b[1mWARNING \u001b[0m | \u001b[36mpypads.injections.loggers.metric\u001b[0m:\u001b[36m__post__\u001b[0m:\u001b[36m99\u001b[0m - \u001b[33m\u001b[1mMlflow metrics have to be doubles. Could log the return value of type '<class 'tuple'>' of 'Metric Injection Logger' as artifact instead. Activate with _pypads_artifact_fallback=True\u001b[0m\n",
      "\u001b[32m2021-05-04 13:56:29.428\u001b[0m | \u001b[33m\u001b[1mWARNING \u001b[0m | \u001b[36mpypads.injections.loggers.metric\u001b[0m:\u001b[36m__post__\u001b[0m:\u001b[36m99\u001b[0m - \u001b[33m\u001b[1mMlflow metrics have to be doubles. Could log the return value of type '<class 'tuple'>' of 'Metric Injection Logger' as artifact instead. Activate with _pypads_artifact_fallback=True\u001b[0m\n",
      "\u001b[32m2021-05-04 13:56:29.508\u001b[0m | \u001b[33m\u001b[1mWARNING \u001b[0m | \u001b[36mpypads.injections.loggers.metric\u001b[0m:\u001b[36m__post__\u001b[0m:\u001b[36m99\u001b[0m - \u001b[33m\u001b[1mMlflow metrics have to be doubles. Could log the return value of type '<class 'tuple'>' of 'Metric Injection Logger' as artifact instead. Activate with _pypads_artifact_fallback=True\u001b[0m\n",
      "\u001b[32m2021-05-04 13:56:29.593\u001b[0m | \u001b[33m\u001b[1mWARNING \u001b[0m | \u001b[36mpypads.injections.loggers.metric\u001b[0m:\u001b[36m__post__\u001b[0m:\u001b[36m99\u001b[0m - \u001b[33m\u001b[1mMlflow metrics have to be doubles. Could log the return value of type '<class 'tuple'>' of 'Metric Injection Logger' as artifact instead. Activate with _pypads_artifact_fallback=True\u001b[0m\n",
      "\u001b[32m2021-05-04 13:56:29.728\u001b[0m | \u001b[33m\u001b[1mWARNING \u001b[0m | \u001b[36mpypads.injections.loggers.metric\u001b[0m:\u001b[36m__post__\u001b[0m:\u001b[36m99\u001b[0m - \u001b[33m\u001b[1mMlflow metrics have to be doubles. Could log the return value of type '<class 'tuple'>' of 'Metric Injection Logger' as artifact instead. Activate with _pypads_artifact_fallback=True\u001b[0m\n",
      "\u001b[32m2021-05-04 13:56:29.820\u001b[0m | \u001b[33m\u001b[1mWARNING \u001b[0m | \u001b[36mpypads.injections.loggers.metric\u001b[0m:\u001b[36m__post__\u001b[0m:\u001b[36m99\u001b[0m - \u001b[33m\u001b[1mMlflow metrics have to be doubles. Could log the return value of type '<class 'tuple'>' of 'Metric Injection Logger' as artifact instead. Activate with _pypads_artifact_fallback=True\u001b[0m\n",
      "\u001b[32m2021-05-04 13:56:29.904\u001b[0m | \u001b[33m\u001b[1mWARNING \u001b[0m | \u001b[36mpypads.injections.loggers.metric\u001b[0m:\u001b[36m__post__\u001b[0m:\u001b[36m99\u001b[0m - \u001b[33m\u001b[1mMlflow metrics have to be doubles. Could log the return value of type '<class 'tuple'>' of 'Metric Injection Logger' as artifact instead. Activate with _pypads_artifact_fallback=True\u001b[0m\n"
     ]
    }
   ],
   "source": [
    "from sklearn import datasets\n",
    "from sklearn.tree import DecisionTreeClassifier\n",
    "from sklearn.metrics.classification import f1_score\n",
    "from pypads.app.pypads import get_current_pads\n",
    "\n",
    "dataset = datasets.load_iris()\n",
    "pads = get_current_pads()\n",
    "splits = pads.actuators.default_splitter(dataset.data, strategy=\"cv\", test_ratio=0.25)\n",
    "\n",
    "for train, test, val in splits:\n",
    "    X_train, y_train = dataset.data[train], dataset.target[train]\n",
    "    X_test, y_test = dataset.data[test], dataset.target[test]\n",
    "    model = DecisionTreeClassifier(min_samples_leaf=1)\n",
    "    model.fit(X_train, y_train)\n",
    "    expected = y_test\n",
    "    predicted = model.predict(X_test)"
   ]
  },
  {
   "cell_type": "code",
   "execution_count": null,
   "metadata": {},
   "outputs": [],
   "source": []
  }
 ],
 "metadata": {
  "kernelspec": {
   "display_name": "Python 3",
   "language": "python",
   "name": "python3"
  },
  "language_info": {
   "codemirror_mode": {
    "name": "ipython",
    "version": 3
   },
   "file_extension": ".py",
   "mimetype": "text/x-python",
   "name": "python",
   "nbconvert_exporter": "python",
   "pygments_lexer": "ipython3",
   "version": "3.8.5"
  }
 },
 "nbformat": 4,
 "nbformat_minor": 4
}
